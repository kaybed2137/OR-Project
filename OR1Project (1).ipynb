{
 "cells": [
  {
   "cell_type": "code",
   "execution_count": 8,
   "id": "7526bb0f-ff30-4418-aa04-4d4c0e983c4c",
   "metadata": {
    "tags": []
   },
   "outputs": [
    {
     "name": "stdout",
     "output_type": "stream",
     "text": [
      "Requirement already satisfied: cplex in c:\\users\\bednk\\anaconda3\\envs\\cplex_env\\lib\\site-packages (22.1.1.0)\n",
      "Requirement already satisfied: docplex in c:\\users\\bednk\\anaconda3\\envs\\cplex_env\\lib\\site-packages (2.25.236)\n",
      "Requirement already satisfied: six in c:\\users\\bednk\\anaconda3\\envs\\cplex_env\\lib\\site-packages (from docplex) (1.16.0)\n"
     ]
    }
   ],
   "source": [
    "!pip install cplex --trusted-host pypi.org --trusted-host pypi.python.org --trusted-host=files.pythonhosted.org\n",
    "\n",
    "!pip install docplex --trusted-host pypi.org --trusted-host pypi.python.org --trusted-host=files.pythonhosted.org"
   ]
  },
  {
   "cell_type": "code",
   "execution_count": 9,
   "id": "35060841-4bab-4450-82a1-2e028ab5dec1",
   "metadata": {
    "tags": []
   },
   "outputs": [],
   "source": [
    "import sys\n",
    "import docplex.mp as mp\n",
    "from docplex.mp.model import Model"
   ]
  },
  {
   "cell_type": "code",
   "execution_count": 10,
   "id": "b26e4d30-da1f-4df3-992e-e6a9c24daaa6",
   "metadata": {
    "tags": []
   },
   "outputs": [],
   "source": [
    "class LP_Project: \n",
    "    def __init__(self):\n",
    "        self.model = Model(name='Candy Mix foe IMSE Candy Supply')\n",
    "            \n",
    "    def set_var(self):\n",
    "            #decision variable that dictates the quantity of door Sppky Surprise to produce\n",
    "        self.SpookyP1 = self.model.continuous_var(name = 'Batches of Spooky Surprise at Plant 1', lb = 0)\n",
    "        self.SpookyP2 = self.model.continuous_var(name = 'Batches of Spooky Surprise at Plant 2', lb = 0)\n",
    "        self.SpookyP3 = self.model.continuous_var(name = 'Batches of Spooky Surprise at Plant 3', lb = 0)\n",
    "            # decision variable that dictates the quantity of door Fruity Fun to produce\n",
    "        self.FruityP1 = self.model.continuous_var(name = 'Batches of Fruity Fun at Plant 1', lb = 0)\n",
    "        self.FruityP2 = self.model.continuous_var(name = 'Batches of Fruity Fun at Plant 2', lb = 0)\n",
    "        self.FruityP3 = self.model.continuous_var(name = 'Batches of Fruity Fun at Plant 3', lb = 0)\n",
    "         # decision variable that dictates the quantity of door Chocolate Craze to produce\n",
    "        self.ChocolateP1 = self.model.continuous_var(name = 'Batches of Chocolate Craze at Plant 1', lb = 0)\n",
    "        self.ChocolateP2 = self.model.continuous_var(name = 'Batches of Chocolate Craze at Plant 2', lb = 0)\n",
    "        self.ChocolateP3 = self.model.continuous_var(name = 'Batches of Chocolate Craze at Plant 3', lb = 0)\n",
    "         # decision variable that dictates the quantity of door Tis the Season to produce\n",
    "        self.TisP1 = self.model.continuous_var(name = 'Batches of Tis the Season at Plant 1', lb = 0)\n",
    "        self.TisP2 = self.model.continuous_var(name = 'Batches of Tis the Season at Plant 2', lb = 0)\n",
    "        self.TisP3 = self.model.continuous_var(name = 'Batches of Tis the Season at Plant 3', lb = 0)\n",
    "        \n",
    "    def set_objective(self):\n",
    "            #set profit portion of obj function\n",
    "        profit=((10*(self.SpookyP1+self.SpookyP2))+(8*(self.FruityP1+self.FruityP2+self.FruityP3))+(14*(self.ChocolateP2+self.ChocolateP3)+(18*(self.TisP1+self.TisP3))))\n",
    "            #set cost portion of obj function\n",
    "        cost=((-4.2*((0.4*self.SpookyP1)+(0.7*self.FruityP1)+(3.1*self.TisP1)))+(-5.1*((0.6*self.SpookyP2)+(0.9*self.FruityP2)+(2.7*self.ChocolateP2)))+(-5.3*((0.5*self.FruityP3)+(2.5*self.ChocolateP3)+(2.9*self.TisP3))))\n",
    "            \n",
    "        self.model.maximize(profit+cost)\n",
    "            \n",
    "    \n",
    "    def set_constraints(self):\n",
    "        #Constraints relating to Labor hours Avalible at each plant\n",
    "        # C1: labor hour avalibility at Plant 1\n",
    "        self.model.add_constraint((0.4*self.SpookyP1)+(0.7*self.FruityP1)+(3.1*self.TisP1) <= 3000) \n",
    "        \n",
    "        # C2: Labor hours of Plant 2\n",
    "        self.model.add_constraint((0.6*self.SpookyP2)+(0.9*self.FruityP2)+(2.7*self.ChocolateP2)<= 4800)\n",
    "        \n",
    "        #C3:Labor Hours of Plant 3\n",
    "        self.model.add_constraint((0.5*self.FruityP3)+(2.5*self.ChocolateP3)+(2.9*self.TisP3)<= 3200)\n",
    "            \n",
    "        #Constraints relating to max capacity of each candy\n",
    "        #C4:Capacity constraint of Spooky Surpirse\n",
    "        self.model.add_constraint((self.SpookyP1+self.SpookyP2)<= 3250)\n",
    "        \n",
    "        #C5: Capacity constraint of Fruity Fun\n",
    "        self.model.add_constraint((self.FruityP1+self.FruityP2+self.FruityP3)<= 2500)\n",
    "        \n",
    "        #C6:Capacity constraint of Chocolate Craze\n",
    "        self.model.add_constraint((self.ChocolateP2+self.ChocolateP3)<= 5000)\n",
    "        \n",
    "        #C7:Capacity constraint of Tis the Season \n",
    "        self.model.add_constraint((self.TisP1+self.TisP3)<= 3000)\n",
    "\n",
    "        \n",
    "    def print_shadow_prices(self):\n",
    "        # finding dual values (shadow prices) for the constraints\n",
    "        shadow_prices = self.model.dual_values(self.model.iter_constraints())\n",
    "        \n",
    "        # print the shadow prices for each constraint\n",
    "        for y, constraint in enumerate(self.model.iter_constraints()):\n",
    "            print(f\"Shadow Price for Constraint {y + 1}: {shadow_prices[y]}\")    \n",
    "        \n",
    "    # defining function that solves our model when called\n",
    "    def solve_model(self):\n",
    "        # solve the optimization problem\n",
    "        solution = self.model.solve()           \n",
    "        if solution:\n",
    "            print(self.model.solution)\n",
    "        else:\n",
    "            print(\"No solution found.\")\n",
    "            return None"
   ]
  },
  {
   "cell_type": "code",
   "execution_count": 11,
   "id": "df8cd630-e779-40a8-99d6-965529e3a45c",
   "metadata": {
    "tags": []
   },
   "outputs": [
    {
     "name": "stdout",
     "output_type": "stream",
     "text": [
      "solution for: Candy Mix foe IMSE Candy Supply\n",
      "objective: 45323.3\n",
      "status: OPTIMAL_SOLUTION(2)\n",
      "Batches of Spooky Surprise at Plant 1=3250.000\n",
      "Batches of Fruity Fun at Plant 3=2500.000\n",
      "Batches of Chocolate Craze at Plant 2=1777.778\n",
      "Batches of Tis the Season at Plant 1=548.387\n",
      "Batches of Tis the Season at Plant 3=672.414\n",
      "\n",
      "Shadow Price for Constraint 1: 1.6064516129032254\n",
      "Shadow Price for Constraint 2: 0.08518518518518534\n",
      "Shadow Price for Constraint 3: 0.9068965517241383\n",
      "Shadow Price for Constraint 4: 7.67741935483871\n",
      "Shadow Price for Constraint 5: 4.896551724137931\n",
      "Shadow Price for Constraint 6: 0\n",
      "Shadow Price for Constraint 7: 0\n"
     ]
    }
   ],
   "source": [
    "solver = LP_Project()\n",
    "solver.set_var()\n",
    "solver.set_objective()\n",
    "solver.set_constraints()\n",
    "solver.solve_model()\n",
    "solver.print_shadow_prices()"
   ]
  },
  {
   "cell_type": "code",
   "execution_count": null,
   "id": "650b3a68-c78e-4d1c-be91-894e6be8e56a",
   "metadata": {},
   "outputs": [],
   "source": []
  }
 ],
 "metadata": {
  "kernelspec": {
   "display_name": "Python 3 (ipykernel)",
   "language": "python",
   "name": "python3"
  },
  "language_info": {
   "codemirror_mode": {
    "name": "ipython",
    "version": 3
   },
   "file_extension": ".py",
   "mimetype": "text/x-python",
   "name": "python",
   "nbconvert_exporter": "python",
   "pygments_lexer": "ipython3",
   "version": "3.10.13"
  }
 },
 "nbformat": 4,
 "nbformat_minor": 5
}
