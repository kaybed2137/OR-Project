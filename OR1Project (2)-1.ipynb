{
 "cells": [
  {
   "cell_type": "code",
   "execution_count": 1,
   "id": "7526bb0f-ff30-4418-aa04-4d4c0e983c4c",
   "metadata": {
    "tags": []
   },
   "outputs": [
    {
     "name": "stdout",
     "output_type": "stream",
     "text": [
      "Requirement already satisfied: cplex in c:\\users\\bednk\\anaconda3\\envs\\cplex_env\\lib\\site-packages (22.1.1.0)\n",
      "Requirement already satisfied: docplex in c:\\users\\bednk\\anaconda3\\envs\\cplex_env\\lib\\site-packages (2.25.236)\n",
      "Requirement already satisfied: six in c:\\users\\bednk\\anaconda3\\envs\\cplex_env\\lib\\site-packages (from docplex) (1.16.0)\n"
     ]
    }
   ],
   "source": [
    "!pip install cplex --trusted-host pypi.org --trusted-host pypi.python.org --trusted-host=files.pythonhosted.org\n",
    "\n",
    "!pip install docplex --trusted-host pypi.org --trusted-host pypi.python.org --trusted-host=files.pythonhosted.org"
   ]
  },
  {
   "cell_type": "code",
   "execution_count": 13,
   "id": "35060841-4bab-4450-82a1-2e028ab5dec1",
   "metadata": {
    "tags": []
   },
   "outputs": [],
   "source": [
    "import sys\n",
    "import docplex.mp as mp\n",
    "from docplex.mp.model import Model"
   ]
  },
  {
   "cell_type": "code",
   "execution_count": 25,
   "id": "b26e4d30-da1f-4df3-992e-e6a9c24daaa6",
   "metadata": {
    "tags": []
   },
   "outputs": [],
   "source": [
    "class LP_Project: \n",
    "    def __init__(self):\n",
    "        self.model = Model(name='Candy Mix forIMSE Candy Supply')\n",
    "            \n",
    "    def set_var(self):\n",
    "            #decision variable that dictates the quantity of door Sppky Surprise to produce\n",
    "        self.SpookyP1 = self.model.continuous_var(name = 'Pounds of Spooky Surprise at Plant 1 ',lb= 0)\n",
    "        self.SpookyP2 = self.model.continuous_var(name = 'Pounds of Spooky Surprise at Plant 2 ',lb = 0)\n",
    "        self.SpookyP3 = self.model.continuous_var(name = 'Pounds of Spooky Surprise at Plant 3 ',lb = 0)\n",
    "            # decision variable that dictates the quantity of door Fruity Fun to produce\n",
    "        self.FruityP1 = self.model.continuous_var(name = 'Pounds of Fruity Fun at Plant 1 ',lb = 0)\n",
    "        self.FruityP2 = self.model.continuous_var(name = 'Pounds of Fruity Fun at Plant 2 ',lb = 0)\n",
    "        self.FruityP3 = self.model.continuous_var(name = 'Pounds of Fruity Fun at Plant 3 ',lb = 0)\n",
    "         # decision variable that dictates the quantity of door Chocolate Craze to produce\n",
    "        self.ChocolateP1 = self.model.continuous_var(name = 'Pounds of Chocolate Craze at Plant 1 ',lb = 0)\n",
    "        self.ChocolateP2 = self.model.continuous_var(name = 'Pounds of Chocolate Craze at Plant 2 ',lb= 0)\n",
    "        self.ChocolateP3 = self.model.continuous_var(name = 'Pounds of Chocolate Craze at Plant 3 ',lb = 0)\n",
    "         # decision variable that dictates the quantity of door Tis the Season to produce\n",
    "        self.TisP1 = self.model.continuous_var(name = 'Pounds of Tis the Season at Plant 1 ',lb = 0)\n",
    "        self.TisP2 = self.model.continuous_var(name = 'Pounds of Tis the Season at Plant 2 ',lb = 0)\n",
    "        self.TisP3 = self.model.continuous_var(name = 'Pounds of Tis the Season at Plant 3 ',lb = 0)\n",
    "        \n",
    "    def set_objective(self):\n",
    "            #set profit portion of obj function\n",
    "        profit=((10*(self.SpookyP1+self.SpookyP2))+(8*(self.FruityP1+self.FruityP2+self.FruityP3))+\n",
    "                (14*(self.ChocolateP2+self.ChocolateP3)+(18*(self.TisP1+self.TisP3))))\n",
    "            #set cost portion of obj function\n",
    "        cost=((-5.2*((0.4*self.SpookyP1)+(0.7*self.FruityP1)+(3.1*self.TisP1)))+\n",
    "              (-5.4*((0.6*self.SpookyP2)+(0.9*self.FruityP2)+(2.7*self.ChocolateP2)))+\n",
    "              (-5.3*((0.5*self.FruityP3)+(2.5*self.ChocolateP3)+(2.9*self.TisP3))))\n",
    "            \n",
    "        self.model.maximize(profit+cost)\n",
    "            \n",
    "    \n",
    "    def set_constraints(self):\n",
    "            #Constraints relating to Labor hours Avalible at each plant\n",
    "        # C1: labor hour avalibility at Plant 1\n",
    "        self.model.add_constraint((0.4*self.SpookyP1)+(0.7*self.FruityP1)+(3.1*self.TisP1) <= 3000) \n",
    "        \n",
    "        # C2: Labor hours of Plant 2\n",
    "        self.model.add_constraint((0.6*self.SpookyP2)+(0.9*self.FruityP2)+(2.7*self.ChocolateP2)<= 4800)\n",
    "        \n",
    "        #C3:Labor Hours of Plant 3\n",
    "        self.model.add_constraint((0.5*self.FruityP3)+(2.5*self.ChocolateP3)+(2.9*self.TisP3)<= 3200)\n",
    "            \n",
    "            #Constraints relating to max capacity of each candy\n",
    "        #C4:Capacity constraint of Spooky Surpirse\n",
    "        self.model.add_constraint((self.SpookyP1+self.SpookyP2)<= 3250)\n",
    "        \n",
    "        #C5: Capacity constraint of Fruity Fun\n",
    "        self.model.add_constraint((self.FruityP1+self.FruityP2+self.FruityP3)<= 2500)\n",
    "        \n",
    "        #C6:Capacity constraint of Chocolate Craze\n",
    "        self.model.add_constraint((self.ChocolateP2+self.ChocolateP3)<= 5000)\n",
    "        \n",
    "        #C7:Capacity constraint of Tis the Season \n",
    "        self.model.add_constraint((self.TisP1+self.TisP3)<= 3000)\n",
    "        \n",
    "                #50% Capacity Constraints \n",
    "        #C8-9:Ensuring no more than 50% of Spooky Season is being produced in either Plant 1 or Plant 2\n",
    "        self.model.add_constraint(((.5*self.SpookyP2)-(0.5*self.SpookyP1))>=0)\n",
    "        self.model.add_constraint(((.5*self.SpookyP1)-(0.5*self.SpookyP2))>=0)\n",
    "        \n",
    "        #C10-12:Ensuring no more than 50% of Fruity Fun is being produced in any Plant \n",
    "        self.model.add_constraint(((.5*self.FruityP2)+(0.5*self.FruityP3)-(0.5*self.FruityP1))>=0)\n",
    "        self.model.add_constraint(((.5*self.FruityP1)+(0.5*self.FruityP3)-(0.5*self.FruityP2))>=0)\n",
    "        self.model.add_constraint(((.5*self.FruityP1)+(0.5*self.FruityP2)-(0.5*self.FruityP3))>=0)\n",
    "        \n",
    "        \n",
    "        #C33-14:Ensuring no more than 50% of Chocolate Craze is being produced in either Plant 3 or Plant 2\n",
    "        self.model.add_constraint(((.5*self.ChocolateP3)-(0.5*self.ChocolateP2))>=0)\n",
    "        self.model.add_constraint(((.5*self.ChocolateP2)-(0.5*self.ChocolateP3))>=0)\n",
    "        \n",
    "        #C15-16:Ensuring no more than 50% of Tis the Season is being produced in either Plant 1 or Plant 3\n",
    "        self.model.add_constraint(((.5*self.TisP3)-(0.5*self.TisP1))>=0)\n",
    "        self.model.add_constraint(((.5*self.TisP1)-(0.5*self.TisP3))>=0)\n",
    "\n",
    "        # C17: Constraing setting Minimum requirement of Chocolate Crazr\n",
    "        self.model.add_constraint((self.ChocolateP2+self.ChocolateP3)>= 1500)\n",
    "        \n",
    "    def print_shadow_prices(self):\n",
    "        # Shadow prices for the constraints\n",
    "        shadow_prices = self.model.dual_values(self.model.iter_constraints())\n",
    "        \n",
    "        # print the shadow prices\n",
    "        for y, constraint in enumerate(self.model.iter_constraints()):\n",
    "            print(f\"Shadow Price for Constraint {y + 1}: {shadow_prices[y]}\")    \n",
    "        \n",
    "    # How the solver is called\n",
    "    def solve_model(self):\n",
    "        # solve the problem if possible\n",
    "        solution = self.model.solve()           \n",
    "        if solution:\n",
    "            print(self.model.solution)\n",
    "        else:\n",
    "            #if not possible, print:\n",
    "            print(\"No solution found.\")\n",
    "            return None"
   ]
  },
  {
   "cell_type": "code",
   "execution_count": 26,
   "id": "df8cd630-e779-40a8-99d6-965529e3a45c",
   "metadata": {
    "tags": []
   },
   "outputs": [
    {
     "name": "stdout",
     "output_type": "stream",
     "text": [
      "solution for: Candy Mix forIMSE Candy Supply\n",
      "objective: 37208.6\n",
      "status: OPTIMAL_SOLUTION(2)\n",
      "Pounds of Spooky Surprise at Plant 1 =1625.000\n",
      "Pounds of Spooky Surprise at Plant 2 =1625.000\n",
      "Pounds of Fruity Fun at Plant 1 =1250.000\n",
      "Pounds of Fruity Fun at Plant 3 =1250.000\n",
      "Pounds of Chocolate Craze at Plant 2 =750.000\n",
      "Pounds of Chocolate Craze at Plant 3 =750.000\n",
      "Pounds of Tis the Season at Plant 1 =241.379\n",
      "Pounds of Tis the Season at Plant 3 =241.379\n",
      "\n",
      "Shadow Price for Constraint 1: 0\n",
      "Shadow Price for Constraint 2: 0\n",
      "Shadow Price for Constraint 3: 1.5551724137931036\n",
      "Shadow Price for Constraint 4: 7.34\n",
      "Shadow Price for Constraint 5: 4.466206896551724\n",
      "Shadow Price for Constraint 6: 0\n",
      "Shadow Price for Constraint 7: 0\n",
      "Shadow Price for Constraint 8: -1.1600000000000001\n",
      "Shadow Price for Constraint 9: 0\n",
      "Shadow Price for Constraint 10: 0\n",
      "Shadow Price for Constraint 11: 0\n",
      "Shadow Price for Constraint 12: -0.21241379310344755\n",
      "Shadow Price for Constraint 13: -2.557931034482757\n",
      "Shadow Price for Constraint 14: 0\n",
      "Shadow Price for Constraint 15: -3.759999999999998\n",
      "Shadow Price for Constraint 16: 0\n",
      "Shadow Price for Constraint 17: -1.8589655172413804\n"
     ]
    }
   ],
   "source": [
    "#Calling the Solver\n",
    "solver = LP_Project()\n",
    "solver.set_var()\n",
    "solver.set_objective()\n",
    "solver.set_constraints()\n",
    "solver.solve_model()\n",
    "solver.print_shadow_prices()"
   ]
  },
  {
   "cell_type": "code",
   "execution_count": null,
   "id": "57f4d540-e8b7-4431-b23e-ab9d1cd51983",
   "metadata": {},
   "outputs": [],
   "source": []
  },
  {
   "cell_type": "code",
   "execution_count": null,
   "id": "94d1f51a-cf8a-452c-be9d-31578f8a426d",
   "metadata": {},
   "outputs": [],
   "source": []
  }
 ],
 "metadata": {
  "kernelspec": {
   "display_name": "Python 3 (ipykernel)",
   "language": "python",
   "name": "python3"
  },
  "language_info": {
   "codemirror_mode": {
    "name": "ipython",
    "version": 3
   },
   "file_extension": ".py",
   "mimetype": "text/x-python",
   "name": "python",
   "nbconvert_exporter": "python",
   "pygments_lexer": "ipython3",
   "version": "3.10.13"
  }
 },
 "nbformat": 4,
 "nbformat_minor": 5
}
